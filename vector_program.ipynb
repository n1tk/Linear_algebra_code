{
 "cells": [
  {
   "cell_type": "code",
   "execution_count": 117,
   "metadata": {
    "collapsed": false
   },
   "outputs": [],
   "source": [
    "from operator import add, sub, mul\n",
    "\n",
    "a = 7.41\n",
    "class Vector(object):\n",
    "    def __init__(self, coordinates):\n",
    "        try:\n",
    "            if not coordinates:\n",
    "                raise ValueError\n",
    "            self.coordinates = tuple(coordinates)\n",
    "            self.dimension = len(coordinates)\n",
    "\n",
    "        except ValueError:\n",
    "            raise ValueError('The coordinates must be nonempty')\n",
    "\n",
    "        except TypeError:\n",
    "            raise TypeError('The coordinates must be an iterable')\n",
    "\n",
    "\n",
    "    def __str__(self):\n",
    "        return 'Vector: {}'.format(self.coordinates)\n",
    "\n",
    "\n",
    "    def __eq__(self, v):\n",
    "        return self.coordinates == v.coordinates\n",
    "    \n",
    "    def adding(self, v):\n",
    "        added_vectors = map(add, self.coordinates, v.coordinates)\n",
    "        return added_vectors\n",
    "    \n",
    "    def subs(self, v):\n",
    "        min_vectors = map(sub, self.coordinates, v.coordinates)\n",
    "        return min_vectors\n",
    "    \n",
    "    def mult(self, v):\n",
    "        mul_vectors = result = map(lambda x: x * a, self.coordinates)\n",
    "        return mul_vectors\n",
    "    \n",
    "    "
   ]
  },
  {
   "cell_type": "code",
   "execution_count": 118,
   "metadata": {
    "collapsed": true
   },
   "outputs": [],
   "source": [
    "#for addition\n",
    "c = Vector([8.218, -9.341])\n",
    "b = Vector([-1.129, 2.111])\n",
    "\n",
    "#for substraction\n",
    "d = Vector([7.119, 8.215])\n",
    "f = Vector([-8.223, 0.878])\n",
    "\n",
    "#for scalar\n",
    "g = 7.41\n",
    "h = Vector([1.671 , -1.012, -0.318])\n"
   ]
  },
  {
   "cell_type": "code",
   "execution_count": 119,
   "metadata": {
    "collapsed": false
   },
   "outputs": [
    {
     "name": "stdout",
     "output_type": "stream",
     "text": [
      "[7.089, -7.229999999999999]\n"
     ]
    }
   ],
   "source": [
    "tmp = Vector\n",
    "print tmp.adding(c,b)\n"
   ]
  },
  {
   "cell_type": "code",
   "execution_count": 120,
   "metadata": {
    "collapsed": false
   },
   "outputs": [
    {
     "name": "stdout",
     "output_type": "stream",
     "text": [
      "[15.342, 7.337]\n"
     ]
    }
   ],
   "source": [
    "tmp = Vector\n",
    "print tmp.subs(d,f)"
   ]
  },
  {
   "cell_type": "code",
   "execution_count": 121,
   "metadata": {
    "collapsed": false
   },
   "outputs": [
    {
     "name": "stdout",
     "output_type": "stream",
     "text": [
      "[12.38211, -7.49892, -2.35638]\n"
     ]
    }
   ],
   "source": [
    "tmp = Vector\n",
    "print tmp.mult(h,g)"
   ]
  },
  {
   "cell_type": "code",
   "execution_count": 7,
   "metadata": {
    "collapsed": false
   },
   "outputs": [
    {
     "name": "stdout",
     "output_type": "stream",
     "text": [
      "[4, 4, 3]\n"
     ]
    }
   ],
   "source": [
    "#functional programing approach \n",
    "a = [\"Mary\", \"Isla\", \"Sam\"]\n",
    "name_lengths = map(len, a)\n",
    "\n",
    "print name_lengths"
   ]
  },
  {
   "cell_type": "code",
   "execution_count": 8,
   "metadata": {
    "collapsed": false
   },
   "outputs": [
    {
     "name": "stdout",
     "output_type": "stream",
     "text": [
      "[0, 1, 4, 9, 16]\n"
     ]
    }
   ],
   "source": [
    "m = [0, 1, 2, 3, 4]\n",
    "squares = map(lambda x: x * x, m)\n",
    "print squares"
   ]
  },
  {
   "cell_type": "code",
   "execution_count": 14,
   "metadata": {
    "collapsed": false
   },
   "outputs": [
    {
     "name": "stdout",
     "output_type": "stream",
     "text": [
      "['Mr. Blonde', 'Mr. Orange', 'Mr. Pink']\n"
     ]
    }
   ],
   "source": [
    "#nonfunctional approach\n",
    "import random\n",
    "\n",
    "names = ['Mary', 'Isla', 'Sam']\n",
    "code_names = ['Mr. Pink', 'Mr. Orange', 'Mr. Blonde']\n",
    "\n",
    "for i in range(len(names)):\n",
    "    names[i] = random.choice(code_names)\n",
    "\n",
    "print names"
   ]
  },
  {
   "cell_type": "code",
   "execution_count": 17,
   "metadata": {
    "collapsed": false
   },
   "outputs": [
    {
     "name": "stdout",
     "output_type": "stream",
     "text": [
      "['Mr. Pink', 'Mr. Orange', 'Mr. Pink']\n",
      "['Mary', 'Isla', 'Sam']\n"
     ]
    }
   ],
   "source": [
    "#functional approach \n",
    "\n",
    "import random\n",
    "\n",
    "names = ['Mary', 'Isla', 'Sam']\n",
    "code_names = ['Mr. Pink', 'Mr. Orange', 'Mr. Blonde']\n",
    "\n",
    "secret_names = map(lambda x: random.choice(code_names),\n",
    "                   names)\n",
    "\n",
    "print secret_names\n",
    "print names"
   ]
  },
  {
   "cell_type": "code",
   "execution_count": 18,
   "metadata": {
    "collapsed": false
   },
   "outputs": [
    {
     "name": "stdout",
     "output_type": "stream",
     "text": [
      "[6306819796133686941, 8135353348168144921, -1228887169324443034]\n"
     ]
    }
   ],
   "source": [
    "#nonfunctional approach\n",
    "names = ['Mary', 'Isla', 'Sam']\n",
    "\n",
    "for i in range(len(names)):\n",
    "    names[i] = hash(names[i])\n",
    "\n",
    "print names"
   ]
  },
  {
   "cell_type": "code",
   "execution_count": 24,
   "metadata": {
    "collapsed": false
   },
   "outputs": [
    {
     "name": "stdout",
     "output_type": "stream",
     "text": [
      "[6306819796133686941, 8135353348168144921, -1228887169324443034]\n"
     ]
    }
   ],
   "source": [
    "#functional approach using map, replace names with the hash\n",
    "\n",
    "names = ['Mary', 'Isla', 'Sam']\n",
    "secret_names = map(hash, names)\n",
    "\n",
    "print secret_names"
   ]
  },
  {
   "cell_type": "code",
   "execution_count": 25,
   "metadata": {
    "collapsed": false
   },
   "outputs": [
    {
     "name": "stdout",
     "output_type": "stream",
     "text": [
      "10\n"
     ]
    }
   ],
   "source": [
    "#functional approach using reduce\n",
    "sum = reduce(lambda a, x: a + x, [0, 1, 2, 3, 4])\n",
    "\n",
    "print sum"
   ]
  },
  {
   "cell_type": "code",
   "execution_count": 26,
   "metadata": {
    "collapsed": false
   },
   "outputs": [
    {
     "name": "stdout",
     "output_type": "stream",
     "text": [
      "3\n"
     ]
    }
   ],
   "source": [
    "#nonfunctional approach\n",
    "\n",
    "sentences = ['Mary read a story to Sam and Isla.',\n",
    "             'Isla cuddled Sam.',\n",
    "             'Sam chortled.']\n",
    "\n",
    "sam_count = 0\n",
    "for sentence in sentences:\n",
    "    sam_count += sentence.count('Sam')\n",
    "\n",
    "print sam_count"
   ]
  },
  {
   "cell_type": "code",
   "execution_count": null,
   "metadata": {
    "collapsed": true
   },
   "outputs": [],
   "source": []
  }
 ],
 "metadata": {
  "kernelspec": {
   "display_name": "Python 2",
   "language": "python",
   "name": "python2"
  },
  "language_info": {
   "codemirror_mode": {
    "name": "ipython",
    "version": 2
   },
   "file_extension": ".py",
   "mimetype": "text/x-python",
   "name": "python",
   "nbconvert_exporter": "python",
   "pygments_lexer": "ipython2",
   "version": "2.7.11"
  }
 },
 "nbformat": 4,
 "nbformat_minor": 0
}
